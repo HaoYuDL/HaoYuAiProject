{
 "cells": [
  {
   "cell_type": "code",
   "execution_count": 6,
   "id": "6462a104",
   "metadata": {},
   "outputs": [],
   "source": [
    "%matplotlib inline\n",
    "import torch\n",
    "import torchvision\n",
    "from torch.utils import data\n",
    "from torchvision import transforms"
   ]
  },
  {
   "cell_type": "code",
   "execution_count": 41,
   "id": "e54b7153",
   "metadata": {},
   "outputs": [],
   "source": [
    "# 读取数据集\n",
    "trans = transforms.ToTensor()\n",
    "mnist_train_dataset = torchvision.datasets.FashionMNIST(root=\"./data\",train=True,transform=trans,download=True)\n",
    "mnist_test_dataset = torchvision.datasets.FashionMNIST(root=\"./data\",train=False,transform=trans,download=True)"
   ]
  },
  {
   "cell_type": "code",
   "execution_count": 42,
   "id": "3d785d58",
   "metadata": {},
   "outputs": [],
   "source": [
    "#送入数据迭代器\n",
    "batch_size = 256\n",
    "train_iter = data.DataLoader(mnist_train_dataset,batch_size,shuffle=True,num_workers=0)\n",
    "test_iter = data.DataLoader(mnist_test_dataset,batch_size,shuffle=False,num_workers=0)"
   ]
  },
  {
   "cell_type": "code",
   "execution_count": 25,
   "id": "467ddb7a",
   "metadata": {},
   "outputs": [],
   "source": [
    "# 定义函数，该函数用于获取数据集迭代器\n",
    "def load_dataset_iter(batch_size,resize=None):\n",
    "    trans = [transforms.ToTensor()]\n",
    "    if resize:\n",
    "        trans.insert(0,transforms.Resize(resize))\n",
    "    trans = transforms.Compose(trans)\n",
    "    mnist_train_dataset = torchvision.datasets.FashionMNIST(root=\"./data\",train=True,transform=trans,download=True)\n",
    "    mnist_test_dataset = torchvision.datasets.FashionMNIST(root=\"./data\",train=False,transform=trans,download=True)\n",
    "    train_iter = data.DataLoader(mnist_train_dataset,batch_size,shuffle=True,num_workers=0)\n",
    "    test_iter = data.DataLoader(mnist_test_dataset,batch_size,shuffle=False,num_workers=0)\n",
    "    return (train_iter,test_iter)"
   ]
  },
  {
   "cell_type": "code",
   "execution_count": 38,
   "id": "d44fe9af",
   "metadata": {},
   "outputs": [
    {
     "name": "stdout",
     "output_type": "stream",
     "text": [
      "tensor([9, 3, 6, 1, 2, 4, 2, 4, 8, 6, 7, 3, 9, 4, 8, 9, 2, 0, 7, 6, 4, 7, 0, 7,\n",
      "        1, 1, 8, 9, 6, 7, 9, 3])\n"
     ]
    }
   ],
   "source": [
    "train_iter,test_iter = load_dataset_iter(32,64)\n",
    "for X,y in train_iter:\n",
    "    print(y)\n",
    "    break"
   ]
  },
  {
   "cell_type": "code",
   "execution_count": 28,
   "id": "869c3985",
   "metadata": {},
   "outputs": [
    {
     "data": {
      "text/plain": [
       "tensor([0., 0., 0., 0., 0., 0., 0., 0., 0., 0.], requires_grad=True)"
      ]
     },
     "execution_count": 28,
     "metadata": {},
     "output_type": "execute_result"
    }
   ],
   "source": [
    "from IPython import display\n",
    "batch_size = 256\n",
    "train_iter,test_iter = load_dataset_iter(batch_size)\n",
    "# 初始化参数\n",
    "num_inputs = 784\n",
    "num_outputs = 10\n",
    "w = torch.normal(0,0.01,size=(num_inputs,num_outputs),requires_grad=True)\n",
    "b = torch.zeros(num_outputs,requires_grad=True)"
   ]
  },
  {
   "cell_type": "code",
   "execution_count": 37,
   "id": "d85cc9aa",
   "metadata": {},
   "outputs": [
    {
     "name": "stdout",
     "output_type": "stream",
     "text": [
      "4.0\n"
     ]
    }
   ],
   "source": [
    "# 定义softmax\n",
    "def softmax(y):\n",
    "    y_exp = torch.exp(y)\n",
    "    y_exp_sum = y_exp.sum(dim=1,keepdim=True)\n",
    "    return y_exp / y_exp_sum\n",
    "# 验证\n",
    "y = torch.Tensor([[1,2,3],[4,5,6]])\n",
    "print(float(softmax(y).argmax(axis=1).sum()))"
   ]
  },
  {
   "cell_type": "code",
   "execution_count": null,
   "id": "702f2a9c",
   "metadata": {},
   "outputs": [],
   "source": [
    "# 定义模型\n",
    "def net(X,w,b):\n",
    "    y_hat = softmax(torch.matmul(X.reshape((-1,w.shape[0])),w) + b)\n",
    "    return y_hat"
   ]
  },
  {
   "cell_type": "code",
   "execution_count": 34,
   "id": "129ef01d",
   "metadata": {},
   "outputs": [
    {
     "data": {
      "text/plain": [
       "tensor([[ 2,  4,  6],\n",
       "        [ 5,  7,  9],\n",
       "        [ 8, 10, 12]])"
      ]
     },
     "execution_count": 34,
     "metadata": {},
     "output_type": "execute_result"
    }
   ],
   "source": [
    "# 定义损失函数\n",
    "def cross_entropy(y_hat,y):\n",
    "    loss_list = -torch.log(y_hat[range(len(y_hat)),y])\n",
    "    return loss_list.mean()"
   ]
  },
  {
   "cell_type": "code",
   "execution_count": 45,
   "id": "fca5d501",
   "metadata": {},
   "outputs": [],
   "source": [
    "# 定义优化器\n",
    "lr = 0.1\n",
    "def updata(params,lr):\n",
    "    with torch.no_grad(): # 确保在参数更新过程中不会生成新的计算图\n",
    "        for param in params:\n",
    "            param -= lr * param.grad\n",
    "            param.grad.zero_()"
   ]
  },
  {
   "cell_type": "code",
   "execution_count": 43,
   "id": "c803fc83",
   "metadata": {},
   "outputs": [],
   "source": [
    "def accuracy(y_hat,y):\n",
    "    \"\"\"计算预测正确的数量\"\"\"\n",
    "    if len(y_hat.shape) > 1 and y_hat.shape[1] > 1: # 判断一下如果是多分类问题就执行argmax操作，如果不是则不需要额外处理\n",
    "        y_hat = y_hat.argmax(axis=1)\n",
    "    cmp = y_hat.type(y.dtype) == y\n",
    "    return float(cmp.type(y.dtype).sum())"
   ]
  },
  {
   "cell_type": "code",
   "execution_count": 44,
   "id": "7302a6c8",
   "metadata": {},
   "outputs": [],
   "source": [
    "# 定义累加器\n",
    "class Accumulator:\n",
    "    \"\"\"在n个变量上累加\"\"\"\n",
    "    def __init__(self,n):\n",
    "        self.data = [0.0] * n\n",
    "    def add(self,*args):\n",
    "        self.data = [a + float(b) for a,b in zip(self.data,args)]\n",
    "    def reset(self):\n",
    "        self.data = [0.0] * len(self.data)\n",
    "    def __getitem__(self,idx):\n",
    "        return self.data[idx]"
   ]
  },
  {
   "cell_type": "code",
   "execution_count": null,
   "id": "32a22a76",
   "metadata": {},
   "outputs": [],
   "source": [
    "# 定义一个训练函数来训练一个迭代周期\n",
    "def train_epoch(net,train_dataiter,loss,updater):\n",
    "    if isinstance(net,torch.nn.Module):\n",
    "        net.eval()\n",
    "    metric = Accumulator(3)\n",
    "    for X,y in train_dataiter:\n",
    "        y_hat = net(X,w,b)\n",
    "        l = loss(y_hat,y)\n",
    "        l.backward()\n",
    "        updater([w,b],lr)\n",
    "        metric.add(float(l),accuracy(y_hat,y),y.numel())\n",
    "        \n",
    "    return metric[0],metric[1] / metric[2]"
   ]
  },
  {
   "cell_type": "code",
   "execution_count": null,
   "id": "bb3b132f",
   "metadata": {},
   "outputs": [],
   "source": [
    "# 计算精度\n",
    "def evaluate_accuracy(net,data_iter):\n",
    "    \"\"\"利用指定模型在指定数据迭代器上计算精度\"\"\"\n",
    "    if isinstance(net,torch.nn.Module):\n",
    "        net.eval()\n",
    "    metric = Accumulator(2)  # 正确预测数、预测总数\n",
    "    with torch.no_grad():\n",
    "        for X,y in data_iter:\n",
    "            metric.add(accuracy(net(X,w,b),y),y.numel())\n",
    "    return metric[0] / metric[1]\n",
    "        "
   ]
  },
  {
   "cell_type": "code",
   "execution_count": 10,
   "id": "67b038d7",
   "metadata": {},
   "outputs": [
    {
     "data": {
      "text/plain": [
       "array([[-1.00318445e-01],\n",
       "       [ 1.52192212e+00],\n",
       "       [-8.31270688e-01],\n",
       "       [ 1.84528664e-02],\n",
       "       [ 3.68733920e-01],\n",
       "       [ 1.06162542e+00],\n",
       "       [-2.76523625e-01],\n",
       "       [ 5.90222360e-01],\n",
       "       [ 1.89555368e+00],\n",
       "       [ 1.37945086e+00],\n",
       "       [ 2.94169012e-01],\n",
       "       [-3.93348001e-01],\n",
       "       [-2.44536248e-02],\n",
       "       [ 1.72092127e+00],\n",
       "       [ 6.43324816e-01],\n",
       "       [ 1.49307128e+00],\n",
       "       [ 1.03650132e+00],\n",
       "       [ 6.06256100e-01],\n",
       "       [ 7.08438509e-01],\n",
       "       [-9.87666230e-01],\n",
       "       [-1.74383601e-01],\n",
       "       [-6.26924877e-01],\n",
       "       [-6.54038377e-01],\n",
       "       [-6.94656026e-01],\n",
       "       [ 3.51871134e-01],\n",
       "       [ 1.05575357e+00],\n",
       "       [-5.60400136e-01],\n",
       "       [-1.08621011e+00],\n",
       "       [ 7.03240080e-04],\n",
       "       [-1.12440849e+00],\n",
       "       [ 1.41337039e+00],\n",
       "       [-9.63413033e-01],\n",
       "       [-3.51025264e-01],\n",
       "       [-3.84433930e-02],\n",
       "       [-2.35675556e-01],\n",
       "       [-8.19032168e-01],\n",
       "       [ 4.52046841e-03],\n",
       "       [-9.93429031e-01],\n",
       "       [ 4.59727003e-01],\n",
       "       [-1.50994876e+00],\n",
       "       [ 2.04263886e+00],\n",
       "       [-1.20544385e-01],\n",
       "       [-1.06012400e+00],\n",
       "       [ 1.47533964e+00],\n",
       "       [ 5.46163034e-01],\n",
       "       [ 9.26494912e-01],\n",
       "       [ 1.53417865e+00],\n",
       "       [-1.50043719e+00],\n",
       "       [ 2.12769802e+00],\n",
       "       [ 1.23965866e-01],\n",
       "       [-7.81194606e-03],\n",
       "       [ 1.55787039e+00],\n",
       "       [-9.48106135e-01],\n",
       "       [-1.94631124e+00],\n",
       "       [-1.72554007e+00],\n",
       "       [-5.21896510e-01],\n",
       "       [ 2.15256224e+00],\n",
       "       [ 8.74972896e-01],\n",
       "       [-1.02662388e-01],\n",
       "       [-3.78598504e-01],\n",
       "       [ 9.79640709e-01],\n",
       "       [-7.08188434e-01],\n",
       "       [-1.73953089e+00],\n",
       "       [-5.16125600e-02],\n",
       "       [-2.96176974e-01],\n",
       "       [-4.32982722e-01],\n",
       "       [-8.14882687e-01],\n",
       "       [-2.99997993e-01],\n",
       "       [ 9.81832823e-01],\n",
       "       [ 2.09575962e-01],\n",
       "       [ 1.15987504e+00],\n",
       "       [ 8.95918194e-01],\n",
       "       [ 1.32582693e+00],\n",
       "       [-8.75055151e-01],\n",
       "       [-8.12564573e-01],\n",
       "       [-1.73550950e+00],\n",
       "       [-5.82300262e-01],\n",
       "       [-7.60092293e-01],\n",
       "       [-6.31496691e-01],\n",
       "       [-6.01200140e-01],\n",
       "       [-5.36384860e-01],\n",
       "       [-6.84724827e-01],\n",
       "       [-9.21873358e-01],\n",
       "       [ 4.79623151e-01],\n",
       "       [ 5.41894102e-01],\n",
       "       [ 6.23479372e-01],\n",
       "       [-4.56804463e-01],\n",
       "       [ 1.15807710e-01],\n",
       "       [ 1.53216295e+00],\n",
       "       [-1.83417819e+00],\n",
       "       [-2.52677287e-01],\n",
       "       [-5.22802578e-01],\n",
       "       [-1.24857341e+00],\n",
       "       [-4.60822091e-02],\n",
       "       [ 2.88799374e-01],\n",
       "       [-3.05565504e-01],\n",
       "       [ 9.01479550e-02],\n",
       "       [-9.38245916e-01],\n",
       "       [ 1.20272201e-01],\n",
       "       [-2.12020827e-01],\n",
       "       [-1.85886399e+00],\n",
       "       [ 1.26044949e+00],\n",
       "       [ 4.42324323e-01],\n",
       "       [-2.13564553e+00],\n",
       "       [-1.95740425e-01],\n",
       "       [ 1.73926158e+00],\n",
       "       [ 5.76434956e-01],\n",
       "       [ 1.16229155e-01],\n",
       "       [ 8.48181048e-01],\n",
       "       [-7.46089623e-01],\n",
       "       [ 1.59534401e+00],\n",
       "       [ 1.63975934e+00],\n",
       "       [-1.27269474e+00],\n",
       "       [ 3.18660402e-01],\n",
       "       [ 1.56079717e+00],\n",
       "       [-7.50003460e-01],\n",
       "       [-2.28894407e-01],\n",
       "       [ 2.14349706e-02],\n",
       "       [-1.34430627e-02],\n",
       "       [-4.92058508e-01],\n",
       "       [-1.56087957e+00],\n",
       "       [-1.21829569e+00],\n",
       "       [ 2.49745372e-01],\n",
       "       [ 5.48330882e-02],\n",
       "       [ 3.47393715e-01],\n",
       "       [ 4.75031176e-01],\n",
       "       [ 9.42722038e-01],\n",
       "       [ 6.38460908e-01],\n",
       "       [ 4.04513136e-01],\n",
       "       [-6.15758606e-01],\n",
       "       [-5.47516721e-01],\n",
       "       [ 5.34583950e-01],\n",
       "       [-1.01207834e+00],\n",
       "       [-8.25624240e-01],\n",
       "       [-1.12465596e+00],\n",
       "       [ 8.64600246e-02],\n",
       "       [ 5.23478348e-01],\n",
       "       [ 5.54178297e-01],\n",
       "       [ 8.00161117e-01],\n",
       "       [-2.05430191e+00],\n",
       "       [ 1.08449024e+00],\n",
       "       [-1.25874131e+00],\n",
       "       [-1.43375081e-01],\n",
       "       [ 4.99493831e-01],\n",
       "       [ 6.76898782e-01],\n",
       "       [ 3.94095025e-01],\n",
       "       [ 1.09145176e+00],\n",
       "       [-5.46593505e-01],\n",
       "       [ 7.00199544e-01],\n",
       "       [ 2.49478512e-01],\n",
       "       [ 6.65962002e-01],\n",
       "       [ 6.18433434e-01],\n",
       "       [-1.39208340e+00],\n",
       "       [ 1.12093598e+00],\n",
       "       [ 7.41001948e-01],\n",
       "       [ 9.96905525e-01],\n",
       "       [-1.53748073e+00],\n",
       "       [ 2.15526380e+00],\n",
       "       [ 3.15008786e-01],\n",
       "       [ 1.92804305e+00],\n",
       "       [-6.25056095e-01],\n",
       "       [ 4.11895012e-01],\n",
       "       [ 1.20921774e+00],\n",
       "       [-1.47094139e+00],\n",
       "       [-9.84526260e-02],\n",
       "       [-1.12258085e-01],\n",
       "       [-5.30769405e-01],\n",
       "       [ 1.58707992e+00],\n",
       "       [ 1.66563460e+00],\n",
       "       [-1.72088208e+00],\n",
       "       [-3.14969828e-01],\n",
       "       [ 8.92483703e-01],\n",
       "       [ 8.94234882e-01],\n",
       "       [ 1.56670322e+00],\n",
       "       [-3.52204433e-01],\n",
       "       [ 1.43597673e+00],\n",
       "       [ 1.91903935e+00],\n",
       "       [-1.25508629e+00],\n",
       "       [-8.19633237e-01],\n",
       "       [-1.12933984e+00],\n",
       "       [ 1.34273315e+00],\n",
       "       [-1.77851942e-01],\n",
       "       [ 1.00473952e+00],\n",
       "       [ 4.27470620e-01],\n",
       "       [ 1.59463200e+00],\n",
       "       [ 6.86836306e-01],\n",
       "       [-2.56615893e-01],\n",
       "       [-2.54910797e-01],\n",
       "       [-5.72566638e-01],\n",
       "       [ 1.27645467e+00],\n",
       "       [ 9.11988361e-01],\n",
       "       [ 2.99950659e-01],\n",
       "       [ 2.78825353e-01],\n",
       "       [-3.99295056e-01],\n",
       "       [ 5.61423223e-01],\n",
       "       [ 9.63426164e-01],\n",
       "       [ 2.61697169e-01],\n",
       "       [-3.04486173e-01],\n",
       "       [-5.68586617e-01],\n",
       "       [-1.84954163e-01]])"
      ]
     },
     "execution_count": 10,
     "metadata": {},
     "output_type": "execute_result"
    }
   ],
   "source": [
    "import numpy as np\n",
    "features = np.random.normal(size=(200, 1))\n",
    "features"
   ]
  },
  {
   "cell_type": "code",
   "execution_count": 18,
   "id": "5b691bf6",
   "metadata": {},
   "outputs": [
    {
     "data": {
      "text/plain": [
       "array([[ 1.00000000e+00, -2.96176974e-01,  8.77207998e-02, ...,\n",
       "        -1.03841739e-09,  3.07555320e-10, -9.10908038e-11],\n",
       "       [ 1.00000000e+00,  9.11988361e-01,  8.31722771e-01, ...,\n",
       "         2.08842090e-01,  1.90461555e-01,  1.73698722e-01],\n",
       "       [ 1.00000000e+00,  4.42324323e-01,  1.95650807e-01, ...,\n",
       "         9.49716473e-07,  4.20082696e-07,  1.85812794e-07],\n",
       "       ...,\n",
       "       [ 1.00000000e+00,  9.79640709e-01,  9.59695919e-01, ...,\n",
       "         7.04913795e-01,  6.90562250e-01,  6.76502892e-01],\n",
       "       [ 1.00000000e+00, -5.72566638e-01,  3.27832555e-01, ...,\n",
       "        -7.63910822e-05,  4.37389851e-05, -2.50434836e-05],\n",
       "       [ 1.00000000e+00,  1.89555368e+00,  3.59312375e+00, ...,\n",
       "         5.26639565e+04,  9.98273565e+04,  1.89228113e+05]])"
      ]
     },
     "execution_count": 18,
     "metadata": {},
     "output_type": "execute_result"
    }
   ],
   "source": [
    "np.random.shuffle(features)\n",
    "poly_features = np.power(features, np.arange(20).reshape(1, -1))\n",
    "poly_features"
   ]
  },
  {
   "cell_type": "code",
   "execution_count": 30,
   "id": "3cb0ba9a",
   "metadata": {},
   "outputs": [
    {
     "name": "stdout",
     "output_type": "stream",
     "text": [
      "24.0\n"
     ]
    }
   ],
   "source": [
    "import numpy as np\n",
    "import math\n",
    "print(math.gamma(5))"
   ]
  },
  {
   "cell_type": "code",
   "execution_count": null,
   "id": "3c39f449",
   "metadata": {},
   "outputs": [],
   "source": []
  }
 ],
 "metadata": {
  "kernelspec": {
   "display_name": "Python [conda env:hypytorch]",
   "language": "python",
   "name": "conda-env-hypytorch-py"
  },
  "language_info": {
   "codemirror_mode": {
    "name": "ipython",
    "version": 3
   },
   "file_extension": ".py",
   "mimetype": "text/x-python",
   "name": "python",
   "nbconvert_exporter": "python",
   "pygments_lexer": "ipython3",
   "version": "3.8.13"
  }
 },
 "nbformat": 4,
 "nbformat_minor": 5
}
